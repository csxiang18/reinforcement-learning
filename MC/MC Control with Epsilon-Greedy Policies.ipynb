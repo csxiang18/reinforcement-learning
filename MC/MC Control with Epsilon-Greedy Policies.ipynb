{
 "cells": [
  {
   "cell_type": "code",
   "execution_count": 3,
   "metadata": {
    "collapsed": true
   },
   "outputs": [],
   "source": [
    "%matplotlib inline\n",
    "\n",
    "import gym\n",
    "import matplotlib\n",
    "import numpy as np\n",
    "import sys\n",
    "\n",
    "from collections import defaultdict\n",
    "if \"../\" not in sys.path:\n",
    "  sys.path.append(\"../\") \n",
    "from lib.envs.blackjack import BlackjackEnv\n",
    "from lib import plotting\n",
    "\n",
    "matplotlib.style.use('ggplot')"
   ]
  },
  {
   "cell_type": "code",
   "execution_count": 4,
   "metadata": {
    "collapsed": true
   },
   "outputs": [],
   "source": [
    "env = BlackjackEnv()"
   ]
  },
  {
   "cell_type": "code",
   "execution_count": 12,
   "metadata": {
    "collapsed": true
   },
   "outputs": [],
   "source": [
    "def make_epsilon_greedy_policy(Q, epsilon, nA):\n",
    "    \"\"\"\n",
    "    Creates an epsilon-greedy policy based on a given Q-function and epsilon.\n",
    "    \n",
    "    Args:\n",
    "        Q: A dictionary that maps from state -> action-values.\n",
    "            Each value is a numpy array of length nA (see below)\n",
    "        epsilon: The probability to select a random action . float between 0 and 1.\n",
    "        nA: Number of actions in the environment.\n",
    "    \n",
    "    Returns:\n",
    "        A function that takes the observation as an argument and returns\n",
    "        the probabilities for each action in the form of a numpy array of length nA.\n",
    "    \n",
    "    \"\"\"\n",
    "    def policy_fn(observation):\n",
    "        pi = np.ones(nA) * epsilon / nA\n",
    "        action = Q[observation].argmax()\n",
    "        pi[action] += 1 - epsilon\n",
    "        return np.random.choice(nA, 1, p=pi)[0]\n",
    "    return policy_fn"
   ]
  },
  {
   "cell_type": "code",
   "execution_count": 30,
   "metadata": {
    "collapsed": true
   },
   "outputs": [],
   "source": [
    "def mc_control_epsilon_greedy(env, num_episodes, discount_factor=1.0, epsilon=0.1):\n",
    "    \"\"\"\n",
    "    Monte Carlo Control using Epsilon-Greedy policies.\n",
    "    Finds an optimal epsilon-greedy policy.\n",
    "    \n",
    "    Args:\n",
    "        env: OpenAI gym environment.\n",
    "        num_episodes: Number of episodes to sample.\n",
    "        discount_factor: Gamma discount factor.\n",
    "        epsilon: Chance the sample a random action. Float betwen 0 and 1.\n",
    "    \n",
    "    Returns:\n",
    "        A tuple (Q, policy).\n",
    "        Q is a dictionary mapping state -> action values.\n",
    "        policy is a function that takes an observation as an argument and returns\n",
    "        action probabilities\n",
    "    \"\"\"\n",
    "    def update_Q(epsidoes, Q, returns_sum, returns_count):\n",
    "        first_occ_dict = dict()\n",
    "        for first_occ, his in enumerate(epsidoes):\n",
    "            s_a = (his[0], his[1])\n",
    "            first_occ_dict[first_occ] = s_a\n",
    "        g = 0\n",
    "        length = len(epsidoes)\n",
    "        for i in range(length - 1, -1, -1):\n",
    "            s, a, r = epsidoes[i]\n",
    "            g = g * discount_factor + r\n",
    "            returns_sum[s] += g\n",
    "            returns_count[s] += 1\n",
    "            Q[s][a] = returns_sum[s] / returns_count[s]\n",
    "    \n",
    "    # Keeps track of sum and count of returns for each state\n",
    "    # to calculate an average. We could use an array to save all\n",
    "    # returns (like in the book) but that's memory inefficient.\n",
    "    returns_sum = defaultdict(float)\n",
    "    returns_count = defaultdict(float)\n",
    "    \n",
    "    # The final action-value function.\n",
    "    # A nested dictionary that maps state -> (action -> action-value).\n",
    "    Q = defaultdict(lambda: np.zeros(env.action_space.n))\n",
    "    \n",
    "    # The policy we're following\n",
    "    \n",
    "    for _ in range(num_episodes):\n",
    "        if _ % 1000 == 0:\n",
    "            print(\"\\rEpisode {}/{}.\".format(_, num_episodes), end=\"\")\n",
    "            sys.stdout.flush()\n",
    "        policy = make_epsilon_greedy_policy(Q, epsilon, env.action_space.n)\n",
    "        obs = env.reset()\n",
    "        epsidoes = []\n",
    "        for __ in range(100):\n",
    "            action = policy(obs)\n",
    "            next_state, reward, done, _ = env.step(action)\n",
    "            epsidoes.append((obs, action, reward))\n",
    "            if done:\n",
    "                break\n",
    "        update_Q(epsidoes, Q, returns_sum, returns_count)\n",
    "        \n",
    "    # Implement this!\n",
    "    policy = make_epsilon_greedy_policy(Q, epsidoes, env.action_space.n)\n",
    "    return Q, policy\n"
   ]
  },
  {
   "cell_type": "code",
   "execution_count": 32,
   "metadata": {
    "collapsed": true
   },
   "outputs": [
    {
     "name": "stdout",
     "output_type": "stream",
     "text": [
      "\rEpisode 0/500000."
     ]
    },
    {
     "name": "stdout",
     "output_type": "stream",
     "text": [
      "\rEpisode 1000/500000."
     ]
    },
    {
     "name": "stdout",
     "output_type": "stream",
     "text": [
      "\rEpisode 2000/500000."
     ]
    },
    {
     "name": "stdout",
     "output_type": "stream",
     "text": [
      "\rEpisode 3000/500000."
     ]
    },
    {
     "name": "stdout",
     "output_type": "stream",
     "text": [
      "\rEpisode 4000/500000."
     ]
    },
    {
     "name": "stdout",
     "output_type": "stream",
     "text": [
      "\rEpisode 5000/500000."
     ]
    },
    {
     "name": "stdout",
     "output_type": "stream",
     "text": [
      "\rEpisode 6000/500000."
     ]
    },
    {
     "name": "stdout",
     "output_type": "stream",
     "text": [
      "\rEpisode 7000/500000."
     ]
    },
    {
     "name": "stdout",
     "output_type": "stream",
     "text": [
      "\rEpisode 8000/500000."
     ]
    },
    {
     "name": "stdout",
     "output_type": "stream",
     "text": [
      "\rEpisode 9000/500000."
     ]
    },
    {
     "name": "stdout",
     "output_type": "stream",
     "text": [
      "\rEpisode 10000/500000."
     ]
    },
    {
     "name": "stdout",
     "output_type": "stream",
     "text": [
      "\rEpisode 11000/500000."
     ]
    },
    {
     "name": "stdout",
     "output_type": "stream",
     "text": [
      "\rEpisode 12000/500000."
     ]
    },
    {
     "name": "stdout",
     "output_type": "stream",
     "text": [
      "\rEpisode 13000/500000."
     ]
    },
    {
     "name": "stdout",
     "output_type": "stream",
     "text": [
      "\rEpisode 14000/500000."
     ]
    },
    {
     "name": "stdout",
     "output_type": "stream",
     "text": [
      "\rEpisode 15000/500000."
     ]
    },
    {
     "name": "stdout",
     "output_type": "stream",
     "text": [
      "\rEpisode 16000/500000."
     ]
    },
    {
     "name": "stdout",
     "output_type": "stream",
     "text": [
      "\rEpisode 17000/500000."
     ]
    },
    {
     "name": "stdout",
     "output_type": "stream",
     "text": [
      "\rEpisode 18000/500000."
     ]
    },
    {
     "name": "stdout",
     "output_type": "stream",
     "text": [
      "\rEpisode 19000/500000."
     ]
    },
    {
     "name": "stdout",
     "output_type": "stream",
     "text": [
      "\rEpisode 20000/500000."
     ]
    },
    {
     "name": "stdout",
     "output_type": "stream",
     "text": [
      "\rEpisode 21000/500000."
     ]
    },
    {
     "name": "stdout",
     "output_type": "stream",
     "text": [
      "\rEpisode 22000/500000."
     ]
    },
    {
     "name": "stdout",
     "output_type": "stream",
     "text": [
      "\rEpisode 23000/500000."
     ]
    },
    {
     "name": "stdout",
     "output_type": "stream",
     "text": [
      "\rEpisode 24000/500000."
     ]
    },
    {
     "name": "stdout",
     "output_type": "stream",
     "text": [
      "\rEpisode 25000/500000."
     ]
    },
    {
     "name": "stdout",
     "output_type": "stream",
     "text": [
      "\rEpisode 26000/500000."
     ]
    },
    {
     "name": "stdout",
     "output_type": "stream",
     "text": [
      "\rEpisode 27000/500000."
     ]
    },
    {
     "name": "stdout",
     "output_type": "stream",
     "text": [
      "\rEpisode 28000/500000."
     ]
    },
    {
     "name": "stdout",
     "output_type": "stream",
     "text": [
      "\rEpisode 29000/500000."
     ]
    },
    {
     "name": "stdout",
     "output_type": "stream",
     "text": [
      "\rEpisode 30000/500000."
     ]
    },
    {
     "name": "stdout",
     "output_type": "stream",
     "text": [
      "\rEpisode 31000/500000."
     ]
    },
    {
     "name": "stdout",
     "output_type": "stream",
     "text": [
      "\rEpisode 32000/500000."
     ]
    },
    {
     "name": "stdout",
     "output_type": "stream",
     "text": [
      "\rEpisode 33000/500000."
     ]
    },
    {
     "name": "stdout",
     "output_type": "stream",
     "text": [
      "\rEpisode 34000/500000."
     ]
    },
    {
     "name": "stdout",
     "output_type": "stream",
     "text": [
      "\rEpisode 35000/500000."
     ]
    },
    {
     "name": "stdout",
     "output_type": "stream",
     "text": [
      "\rEpisode 36000/500000."
     ]
    },
    {
     "name": "stdout",
     "output_type": "stream",
     "text": [
      "\rEpisode 37000/500000."
     ]
    },
    {
     "name": "stdout",
     "output_type": "stream",
     "text": [
      "\rEpisode 38000/500000."
     ]
    },
    {
     "name": "stdout",
     "output_type": "stream",
     "text": [
      "\rEpisode 39000/500000."
     ]
    },
    {
     "name": "stdout",
     "output_type": "stream",
     "text": [
      "\rEpisode 40000/500000."
     ]
    },
    {
     "name": "stdout",
     "output_type": "stream",
     "text": [
      "\rEpisode 41000/500000."
     ]
    },
    {
     "name": "stdout",
     "output_type": "stream",
     "text": [
      "\rEpisode 42000/500000."
     ]
    },
    {
     "name": "stdout",
     "output_type": "stream",
     "text": [
      "\rEpisode 43000/500000."
     ]
    },
    {
     "name": "stdout",
     "output_type": "stream",
     "text": [
      "\rEpisode 44000/500000."
     ]
    },
    {
     "name": "stdout",
     "output_type": "stream",
     "text": [
      "\rEpisode 45000/500000."
     ]
    },
    {
     "name": "stdout",
     "output_type": "stream",
     "text": [
      "\rEpisode 46000/500000."
     ]
    },
    {
     "name": "stdout",
     "output_type": "stream",
     "text": [
      "\rEpisode 47000/500000."
     ]
    },
    {
     "name": "stdout",
     "output_type": "stream",
     "text": [
      "\rEpisode 48000/500000."
     ]
    },
    {
     "name": "stdout",
     "output_type": "stream",
     "text": [
      "\rEpisode 49000/500000."
     ]
    },
    {
     "name": "stdout",
     "output_type": "stream",
     "text": [
      "\rEpisode 50000/500000."
     ]
    },
    {
     "name": "stdout",
     "output_type": "stream",
     "text": [
      "\rEpisode 51000/500000."
     ]
    },
    {
     "name": "stdout",
     "output_type": "stream",
     "text": [
      "\rEpisode 52000/500000."
     ]
    },
    {
     "name": "stdout",
     "output_type": "stream",
     "text": [
      "\rEpisode 53000/500000."
     ]
    },
    {
     "name": "stdout",
     "output_type": "stream",
     "text": [
      "\rEpisode 54000/500000."
     ]
    },
    {
     "name": "stdout",
     "output_type": "stream",
     "text": [
      "\rEpisode 55000/500000."
     ]
    },
    {
     "name": "stdout",
     "output_type": "stream",
     "text": [
      "\rEpisode 56000/500000."
     ]
    },
    {
     "name": "stdout",
     "output_type": "stream",
     "text": [
      "\rEpisode 57000/500000."
     ]
    },
    {
     "name": "stdout",
     "output_type": "stream",
     "text": [
      "\rEpisode 58000/500000."
     ]
    },
    {
     "name": "stdout",
     "output_type": "stream",
     "text": [
      "\rEpisode 59000/500000."
     ]
    },
    {
     "name": "stdout",
     "output_type": "stream",
     "text": [
      "\rEpisode 60000/500000."
     ]
    },
    {
     "name": "stdout",
     "output_type": "stream",
     "text": [
      "\rEpisode 61000/500000."
     ]
    },
    {
     "name": "stdout",
     "output_type": "stream",
     "text": [
      "\rEpisode 62000/500000."
     ]
    },
    {
     "name": "stdout",
     "output_type": "stream",
     "text": [
      "\rEpisode 63000/500000."
     ]
    },
    {
     "name": "stdout",
     "output_type": "stream",
     "text": [
      "\rEpisode 64000/500000."
     ]
    },
    {
     "name": "stdout",
     "output_type": "stream",
     "text": [
      "\rEpisode 65000/500000."
     ]
    },
    {
     "name": "stdout",
     "output_type": "stream",
     "text": [
      "\rEpisode 66000/500000."
     ]
    },
    {
     "name": "stdout",
     "output_type": "stream",
     "text": [
      "\rEpisode 67000/500000."
     ]
    },
    {
     "name": "stdout",
     "output_type": "stream",
     "text": [
      "\rEpisode 68000/500000."
     ]
    },
    {
     "name": "stdout",
     "output_type": "stream",
     "text": [
      "\rEpisode 69000/500000."
     ]
    },
    {
     "name": "stdout",
     "output_type": "stream",
     "text": [
      "\rEpisode 70000/500000."
     ]
    },
    {
     "name": "stdout",
     "output_type": "stream",
     "text": [
      "\rEpisode 71000/500000."
     ]
    },
    {
     "name": "stdout",
     "output_type": "stream",
     "text": [
      "\rEpisode 72000/500000."
     ]
    },
    {
     "name": "stdout",
     "output_type": "stream",
     "text": [
      "\rEpisode 73000/500000."
     ]
    },
    {
     "name": "stdout",
     "output_type": "stream",
     "text": [
      "\rEpisode 74000/500000."
     ]
    },
    {
     "name": "stdout",
     "output_type": "stream",
     "text": [
      "\rEpisode 75000/500000."
     ]
    },
    {
     "name": "stdout",
     "output_type": "stream",
     "text": [
      "\rEpisode 76000/500000."
     ]
    },
    {
     "name": "stdout",
     "output_type": "stream",
     "text": [
      "\rEpisode 77000/500000."
     ]
    },
    {
     "name": "stdout",
     "output_type": "stream",
     "text": [
      "\rEpisode 78000/500000."
     ]
    },
    {
     "name": "stdout",
     "output_type": "stream",
     "text": [
      "\rEpisode 79000/500000."
     ]
    },
    {
     "name": "stdout",
     "output_type": "stream",
     "text": [
      "\rEpisode 80000/500000."
     ]
    },
    {
     "name": "stdout",
     "output_type": "stream",
     "text": [
      "\rEpisode 81000/500000."
     ]
    },
    {
     "name": "stdout",
     "output_type": "stream",
     "text": [
      "\rEpisode 82000/500000."
     ]
    },
    {
     "name": "stdout",
     "output_type": "stream",
     "text": [
      "\rEpisode 83000/500000."
     ]
    },
    {
     "name": "stdout",
     "output_type": "stream",
     "text": [
      "\rEpisode 84000/500000."
     ]
    },
    {
     "name": "stdout",
     "output_type": "stream",
     "text": [
      "\rEpisode 85000/500000."
     ]
    },
    {
     "name": "stdout",
     "output_type": "stream",
     "text": [
      "\rEpisode 86000/500000."
     ]
    },
    {
     "name": "stdout",
     "output_type": "stream",
     "text": [
      "\rEpisode 87000/500000."
     ]
    },
    {
     "name": "stdout",
     "output_type": "stream",
     "text": [
      "\rEpisode 88000/500000."
     ]
    },
    {
     "name": "stdout",
     "output_type": "stream",
     "text": [
      "\rEpisode 89000/500000."
     ]
    },
    {
     "name": "stdout",
     "output_type": "stream",
     "text": [
      "\rEpisode 90000/500000."
     ]
    },
    {
     "name": "stdout",
     "output_type": "stream",
     "text": [
      "\rEpisode 91000/500000."
     ]
    },
    {
     "name": "stdout",
     "output_type": "stream",
     "text": [
      "\rEpisode 92000/500000."
     ]
    },
    {
     "name": "stdout",
     "output_type": "stream",
     "text": [
      "\rEpisode 93000/500000."
     ]
    },
    {
     "name": "stdout",
     "output_type": "stream",
     "text": [
      "\rEpisode 94000/500000."
     ]
    },
    {
     "name": "stdout",
     "output_type": "stream",
     "text": [
      "\rEpisode 95000/500000."
     ]
    },
    {
     "name": "stdout",
     "output_type": "stream",
     "text": [
      "\rEpisode 96000/500000."
     ]
    },
    {
     "name": "stdout",
     "output_type": "stream",
     "text": [
      "\rEpisode 97000/500000."
     ]
    },
    {
     "name": "stdout",
     "output_type": "stream",
     "text": [
      "\rEpisode 98000/500000."
     ]
    },
    {
     "name": "stdout",
     "output_type": "stream",
     "text": [
      "\rEpisode 99000/500000."
     ]
    },
    {
     "name": "stdout",
     "output_type": "stream",
     "text": [
      "\rEpisode 100000/500000."
     ]
    },
    {
     "name": "stdout",
     "output_type": "stream",
     "text": [
      "\rEpisode 101000/500000."
     ]
    },
    {
     "name": "stdout",
     "output_type": "stream",
     "text": [
      "\rEpisode 102000/500000."
     ]
    },
    {
     "name": "stdout",
     "output_type": "stream",
     "text": [
      "\rEpisode 103000/500000."
     ]
    },
    {
     "name": "stdout",
     "output_type": "stream",
     "text": [
      "\rEpisode 104000/500000."
     ]
    },
    {
     "name": "stdout",
     "output_type": "stream",
     "text": [
      "\rEpisode 105000/500000."
     ]
    },
    {
     "name": "stdout",
     "output_type": "stream",
     "text": [
      "\rEpisode 106000/500000."
     ]
    },
    {
     "name": "stdout",
     "output_type": "stream",
     "text": [
      "\rEpisode 107000/500000."
     ]
    },
    {
     "name": "stdout",
     "output_type": "stream",
     "text": [
      "\rEpisode 108000/500000."
     ]
    },
    {
     "name": "stdout",
     "output_type": "stream",
     "text": [
      "\rEpisode 109000/500000."
     ]
    },
    {
     "name": "stdout",
     "output_type": "stream",
     "text": [
      "\rEpisode 110000/500000."
     ]
    },
    {
     "name": "stdout",
     "output_type": "stream",
     "text": [
      "\rEpisode 111000/500000."
     ]
    },
    {
     "name": "stdout",
     "output_type": "stream",
     "text": [
      "\rEpisode 112000/500000."
     ]
    },
    {
     "name": "stdout",
     "output_type": "stream",
     "text": [
      "\rEpisode 113000/500000."
     ]
    },
    {
     "name": "stdout",
     "output_type": "stream",
     "text": [
      "\rEpisode 114000/500000."
     ]
    },
    {
     "name": "stdout",
     "output_type": "stream",
     "text": [
      "\rEpisode 115000/500000."
     ]
    },
    {
     "name": "stdout",
     "output_type": "stream",
     "text": [
      "\rEpisode 116000/500000."
     ]
    },
    {
     "name": "stdout",
     "output_type": "stream",
     "text": [
      "\rEpisode 117000/500000."
     ]
    },
    {
     "name": "stdout",
     "output_type": "stream",
     "text": [
      "\rEpisode 118000/500000."
     ]
    },
    {
     "name": "stdout",
     "output_type": "stream",
     "text": [
      "\rEpisode 119000/500000."
     ]
    },
    {
     "name": "stdout",
     "output_type": "stream",
     "text": [
      "\rEpisode 120000/500000."
     ]
    },
    {
     "name": "stdout",
     "output_type": "stream",
     "text": [
      "\rEpisode 121000/500000."
     ]
    },
    {
     "name": "stdout",
     "output_type": "stream",
     "text": [
      "\rEpisode 122000/500000."
     ]
    },
    {
     "name": "stdout",
     "output_type": "stream",
     "text": [
      "\rEpisode 123000/500000."
     ]
    },
    {
     "name": "stdout",
     "output_type": "stream",
     "text": [
      "\rEpisode 124000/500000."
     ]
    },
    {
     "name": "stdout",
     "output_type": "stream",
     "text": [
      "\rEpisode 125000/500000."
     ]
    },
    {
     "name": "stdout",
     "output_type": "stream",
     "text": [
      "\rEpisode 126000/500000."
     ]
    },
    {
     "name": "stdout",
     "output_type": "stream",
     "text": [
      "\rEpisode 127000/500000."
     ]
    },
    {
     "name": "stdout",
     "output_type": "stream",
     "text": [
      "\rEpisode 128000/500000."
     ]
    },
    {
     "name": "stdout",
     "output_type": "stream",
     "text": [
      "\rEpisode 129000/500000."
     ]
    },
    {
     "name": "stdout",
     "output_type": "stream",
     "text": [
      "\rEpisode 130000/500000."
     ]
    },
    {
     "name": "stdout",
     "output_type": "stream",
     "text": [
      "\rEpisode 131000/500000."
     ]
    },
    {
     "name": "stdout",
     "output_type": "stream",
     "text": [
      "\rEpisode 132000/500000."
     ]
    },
    {
     "name": "stdout",
     "output_type": "stream",
     "text": [
      "\rEpisode 133000/500000."
     ]
    },
    {
     "name": "stdout",
     "output_type": "stream",
     "text": [
      "\rEpisode 134000/500000."
     ]
    },
    {
     "name": "stdout",
     "output_type": "stream",
     "text": [
      "\rEpisode 135000/500000."
     ]
    },
    {
     "name": "stdout",
     "output_type": "stream",
     "text": [
      "\rEpisode 136000/500000."
     ]
    },
    {
     "name": "stdout",
     "output_type": "stream",
     "text": [
      "\rEpisode 137000/500000."
     ]
    },
    {
     "name": "stdout",
     "output_type": "stream",
     "text": [
      "\rEpisode 138000/500000."
     ]
    },
    {
     "name": "stdout",
     "output_type": "stream",
     "text": [
      "\rEpisode 139000/500000."
     ]
    },
    {
     "name": "stdout",
     "output_type": "stream",
     "text": [
      "\rEpisode 140000/500000."
     ]
    },
    {
     "name": "stdout",
     "output_type": "stream",
     "text": [
      "\rEpisode 141000/500000."
     ]
    },
    {
     "name": "stdout",
     "output_type": "stream",
     "text": [
      "\rEpisode 142000/500000."
     ]
    },
    {
     "name": "stdout",
     "output_type": "stream",
     "text": [
      "\rEpisode 143000/500000."
     ]
    },
    {
     "name": "stdout",
     "output_type": "stream",
     "text": [
      "\rEpisode 144000/500000."
     ]
    },
    {
     "name": "stdout",
     "output_type": "stream",
     "text": [
      "\rEpisode 145000/500000."
     ]
    },
    {
     "name": "stdout",
     "output_type": "stream",
     "text": [
      "\rEpisode 146000/500000."
     ]
    },
    {
     "name": "stdout",
     "output_type": "stream",
     "text": [
      "\rEpisode 147000/500000."
     ]
    },
    {
     "name": "stdout",
     "output_type": "stream",
     "text": [
      "\rEpisode 148000/500000."
     ]
    },
    {
     "name": "stdout",
     "output_type": "stream",
     "text": [
      "\rEpisode 149000/500000."
     ]
    },
    {
     "name": "stdout",
     "output_type": "stream",
     "text": [
      "\rEpisode 150000/500000."
     ]
    },
    {
     "name": "stdout",
     "output_type": "stream",
     "text": [
      "\rEpisode 151000/500000."
     ]
    },
    {
     "name": "stdout",
     "output_type": "stream",
     "text": [
      "\rEpisode 152000/500000."
     ]
    },
    {
     "name": "stdout",
     "output_type": "stream",
     "text": [
      "\rEpisode 153000/500000."
     ]
    },
    {
     "name": "stdout",
     "output_type": "stream",
     "text": [
      "\rEpisode 154000/500000."
     ]
    },
    {
     "name": "stdout",
     "output_type": "stream",
     "text": [
      "\rEpisode 155000/500000."
     ]
    },
    {
     "name": "stdout",
     "output_type": "stream",
     "text": [
      "\rEpisode 156000/500000."
     ]
    },
    {
     "name": "stdout",
     "output_type": "stream",
     "text": [
      "\rEpisode 157000/500000."
     ]
    },
    {
     "name": "stdout",
     "output_type": "stream",
     "text": [
      "\rEpisode 158000/500000."
     ]
    },
    {
     "name": "stdout",
     "output_type": "stream",
     "text": [
      "\rEpisode 159000/500000."
     ]
    },
    {
     "name": "stdout",
     "output_type": "stream",
     "text": [
      "\rEpisode 160000/500000."
     ]
    },
    {
     "name": "stdout",
     "output_type": "stream",
     "text": [
      "\rEpisode 161000/500000."
     ]
    },
    {
     "name": "stdout",
     "output_type": "stream",
     "text": [
      "\rEpisode 162000/500000."
     ]
    },
    {
     "name": "stdout",
     "output_type": "stream",
     "text": [
      "\rEpisode 163000/500000."
     ]
    },
    {
     "name": "stdout",
     "output_type": "stream",
     "text": [
      "\rEpisode 164000/500000."
     ]
    },
    {
     "name": "stdout",
     "output_type": "stream",
     "text": [
      "\rEpisode 165000/500000."
     ]
    },
    {
     "name": "stdout",
     "output_type": "stream",
     "text": [
      "\rEpisode 166000/500000."
     ]
    },
    {
     "name": "stdout",
     "output_type": "stream",
     "text": [
      "\rEpisode 167000/500000."
     ]
    },
    {
     "name": "stdout",
     "output_type": "stream",
     "text": [
      "\rEpisode 168000/500000."
     ]
    },
    {
     "name": "stdout",
     "output_type": "stream",
     "text": [
      "\rEpisode 169000/500000."
     ]
    },
    {
     "name": "stdout",
     "output_type": "stream",
     "text": [
      "\rEpisode 170000/500000."
     ]
    },
    {
     "name": "stdout",
     "output_type": "stream",
     "text": [
      "\rEpisode 171000/500000."
     ]
    },
    {
     "name": "stdout",
     "output_type": "stream",
     "text": [
      "\rEpisode 172000/500000."
     ]
    },
    {
     "name": "stdout",
     "output_type": "stream",
     "text": [
      "\rEpisode 173000/500000."
     ]
    },
    {
     "name": "stdout",
     "output_type": "stream",
     "text": [
      "\rEpisode 174000/500000."
     ]
    },
    {
     "name": "stdout",
     "output_type": "stream",
     "text": [
      "\rEpisode 175000/500000."
     ]
    },
    {
     "name": "stdout",
     "output_type": "stream",
     "text": [
      "\rEpisode 176000/500000."
     ]
    },
    {
     "name": "stdout",
     "output_type": "stream",
     "text": [
      "\rEpisode 177000/500000."
     ]
    },
    {
     "name": "stdout",
     "output_type": "stream",
     "text": [
      "\rEpisode 178000/500000."
     ]
    },
    {
     "name": "stdout",
     "output_type": "stream",
     "text": [
      "\rEpisode 179000/500000."
     ]
    },
    {
     "name": "stdout",
     "output_type": "stream",
     "text": [
      "\rEpisode 180000/500000."
     ]
    },
    {
     "name": "stdout",
     "output_type": "stream",
     "text": [
      "\rEpisode 181000/500000."
     ]
    },
    {
     "name": "stdout",
     "output_type": "stream",
     "text": [
      "\rEpisode 182000/500000."
     ]
    },
    {
     "name": "stdout",
     "output_type": "stream",
     "text": [
      "\rEpisode 183000/500000."
     ]
    },
    {
     "name": "stdout",
     "output_type": "stream",
     "text": [
      "\rEpisode 184000/500000."
     ]
    },
    {
     "name": "stdout",
     "output_type": "stream",
     "text": [
      "\rEpisode 185000/500000."
     ]
    },
    {
     "name": "stdout",
     "output_type": "stream",
     "text": [
      "\rEpisode 186000/500000."
     ]
    },
    {
     "name": "stdout",
     "output_type": "stream",
     "text": [
      "\rEpisode 187000/500000."
     ]
    },
    {
     "name": "stdout",
     "output_type": "stream",
     "text": [
      "\rEpisode 188000/500000."
     ]
    },
    {
     "name": "stdout",
     "output_type": "stream",
     "text": [
      "\rEpisode 189000/500000."
     ]
    },
    {
     "name": "stdout",
     "output_type": "stream",
     "text": [
      "\rEpisode 190000/500000."
     ]
    },
    {
     "name": "stdout",
     "output_type": "stream",
     "text": [
      "\rEpisode 191000/500000."
     ]
    },
    {
     "name": "stdout",
     "output_type": "stream",
     "text": [
      "\rEpisode 192000/500000."
     ]
    },
    {
     "name": "stdout",
     "output_type": "stream",
     "text": [
      "\rEpisode 193000/500000."
     ]
    },
    {
     "name": "stdout",
     "output_type": "stream",
     "text": [
      "\rEpisode 194000/500000."
     ]
    },
    {
     "name": "stdout",
     "output_type": "stream",
     "text": [
      "\rEpisode 195000/500000."
     ]
    },
    {
     "name": "stdout",
     "output_type": "stream",
     "text": [
      "\rEpisode 196000/500000."
     ]
    },
    {
     "name": "stdout",
     "output_type": "stream",
     "text": [
      "\rEpisode 197000/500000."
     ]
    },
    {
     "name": "stdout",
     "output_type": "stream",
     "text": [
      "\rEpisode 198000/500000."
     ]
    },
    {
     "name": "stdout",
     "output_type": "stream",
     "text": [
      "\rEpisode 199000/500000."
     ]
    },
    {
     "name": "stdout",
     "output_type": "stream",
     "text": [
      "\rEpisode 200000/500000."
     ]
    },
    {
     "name": "stdout",
     "output_type": "stream",
     "text": [
      "\rEpisode 201000/500000."
     ]
    },
    {
     "name": "stdout",
     "output_type": "stream",
     "text": [
      "\rEpisode 202000/500000."
     ]
    },
    {
     "name": "stdout",
     "output_type": "stream",
     "text": [
      "\rEpisode 203000/500000."
     ]
    },
    {
     "name": "stdout",
     "output_type": "stream",
     "text": [
      "\rEpisode 204000/500000."
     ]
    },
    {
     "name": "stdout",
     "output_type": "stream",
     "text": [
      "\rEpisode 205000/500000."
     ]
    },
    {
     "name": "stdout",
     "output_type": "stream",
     "text": [
      "\rEpisode 206000/500000."
     ]
    },
    {
     "name": "stdout",
     "output_type": "stream",
     "text": [
      "\rEpisode 207000/500000."
     ]
    },
    {
     "name": "stdout",
     "output_type": "stream",
     "text": [
      "\rEpisode 208000/500000."
     ]
    },
    {
     "name": "stdout",
     "output_type": "stream",
     "text": [
      "\rEpisode 209000/500000."
     ]
    },
    {
     "name": "stdout",
     "output_type": "stream",
     "text": [
      "\rEpisode 210000/500000."
     ]
    },
    {
     "name": "stdout",
     "output_type": "stream",
     "text": [
      "\rEpisode 211000/500000."
     ]
    },
    {
     "name": "stdout",
     "output_type": "stream",
     "text": [
      "\rEpisode 212000/500000."
     ]
    },
    {
     "name": "stdout",
     "output_type": "stream",
     "text": [
      "\rEpisode 213000/500000."
     ]
    },
    {
     "name": "stdout",
     "output_type": "stream",
     "text": [
      "\rEpisode 214000/500000."
     ]
    },
    {
     "name": "stdout",
     "output_type": "stream",
     "text": [
      "\rEpisode 215000/500000."
     ]
    },
    {
     "name": "stdout",
     "output_type": "stream",
     "text": [
      "\rEpisode 216000/500000."
     ]
    },
    {
     "name": "stdout",
     "output_type": "stream",
     "text": [
      "\rEpisode 217000/500000."
     ]
    },
    {
     "name": "stdout",
     "output_type": "stream",
     "text": [
      "\rEpisode 218000/500000."
     ]
    },
    {
     "name": "stdout",
     "output_type": "stream",
     "text": [
      "\rEpisode 219000/500000."
     ]
    },
    {
     "name": "stdout",
     "output_type": "stream",
     "text": [
      "\rEpisode 220000/500000."
     ]
    },
    {
     "name": "stdout",
     "output_type": "stream",
     "text": [
      "\rEpisode 221000/500000."
     ]
    },
    {
     "name": "stdout",
     "output_type": "stream",
     "text": [
      "\rEpisode 222000/500000."
     ]
    },
    {
     "name": "stdout",
     "output_type": "stream",
     "text": [
      "\rEpisode 223000/500000."
     ]
    },
    {
     "name": "stdout",
     "output_type": "stream",
     "text": [
      "\rEpisode 224000/500000."
     ]
    },
    {
     "name": "stdout",
     "output_type": "stream",
     "text": [
      "\rEpisode 225000/500000."
     ]
    },
    {
     "name": "stdout",
     "output_type": "stream",
     "text": [
      "\rEpisode 226000/500000."
     ]
    },
    {
     "name": "stdout",
     "output_type": "stream",
     "text": [
      "\rEpisode 227000/500000."
     ]
    },
    {
     "name": "stdout",
     "output_type": "stream",
     "text": [
      "\rEpisode 228000/500000."
     ]
    },
    {
     "name": "stdout",
     "output_type": "stream",
     "text": [
      "\rEpisode 229000/500000."
     ]
    },
    {
     "name": "stdout",
     "output_type": "stream",
     "text": [
      "\rEpisode 230000/500000."
     ]
    },
    {
     "name": "stdout",
     "output_type": "stream",
     "text": [
      "\rEpisode 231000/500000."
     ]
    },
    {
     "name": "stdout",
     "output_type": "stream",
     "text": [
      "\rEpisode 232000/500000."
     ]
    },
    {
     "name": "stdout",
     "output_type": "stream",
     "text": [
      "\rEpisode 233000/500000."
     ]
    },
    {
     "name": "stdout",
     "output_type": "stream",
     "text": [
      "\rEpisode 234000/500000."
     ]
    },
    {
     "name": "stdout",
     "output_type": "stream",
     "text": [
      "\rEpisode 235000/500000."
     ]
    },
    {
     "name": "stdout",
     "output_type": "stream",
     "text": [
      "\rEpisode 236000/500000."
     ]
    },
    {
     "name": "stdout",
     "output_type": "stream",
     "text": [
      "\rEpisode 237000/500000."
     ]
    },
    {
     "name": "stdout",
     "output_type": "stream",
     "text": [
      "\rEpisode 238000/500000."
     ]
    },
    {
     "name": "stdout",
     "output_type": "stream",
     "text": [
      "\rEpisode 239000/500000."
     ]
    },
    {
     "name": "stdout",
     "output_type": "stream",
     "text": [
      "\rEpisode 240000/500000."
     ]
    },
    {
     "name": "stdout",
     "output_type": "stream",
     "text": [
      "\rEpisode 241000/500000."
     ]
    },
    {
     "name": "stdout",
     "output_type": "stream",
     "text": [
      "\rEpisode 242000/500000."
     ]
    },
    {
     "name": "stdout",
     "output_type": "stream",
     "text": [
      "\rEpisode 243000/500000."
     ]
    },
    {
     "name": "stdout",
     "output_type": "stream",
     "text": [
      "\rEpisode 244000/500000."
     ]
    },
    {
     "name": "stdout",
     "output_type": "stream",
     "text": [
      "\rEpisode 245000/500000."
     ]
    },
    {
     "name": "stdout",
     "output_type": "stream",
     "text": [
      "\rEpisode 246000/500000."
     ]
    },
    {
     "name": "stdout",
     "output_type": "stream",
     "text": [
      "\rEpisode 247000/500000."
     ]
    },
    {
     "name": "stdout",
     "output_type": "stream",
     "text": [
      "\rEpisode 248000/500000."
     ]
    },
    {
     "name": "stdout",
     "output_type": "stream",
     "text": [
      "\rEpisode 249000/500000."
     ]
    },
    {
     "name": "stdout",
     "output_type": "stream",
     "text": [
      "\rEpisode 250000/500000."
     ]
    },
    {
     "name": "stdout",
     "output_type": "stream",
     "text": [
      "\rEpisode 251000/500000."
     ]
    },
    {
     "name": "stdout",
     "output_type": "stream",
     "text": [
      "\rEpisode 252000/500000."
     ]
    },
    {
     "name": "stdout",
     "output_type": "stream",
     "text": [
      "\rEpisode 253000/500000."
     ]
    },
    {
     "name": "stdout",
     "output_type": "stream",
     "text": [
      "\rEpisode 254000/500000."
     ]
    },
    {
     "name": "stdout",
     "output_type": "stream",
     "text": [
      "\rEpisode 255000/500000."
     ]
    },
    {
     "name": "stdout",
     "output_type": "stream",
     "text": [
      "\rEpisode 256000/500000."
     ]
    },
    {
     "name": "stdout",
     "output_type": "stream",
     "text": [
      "\rEpisode 257000/500000."
     ]
    },
    {
     "name": "stdout",
     "output_type": "stream",
     "text": [
      "\rEpisode 258000/500000."
     ]
    },
    {
     "name": "stdout",
     "output_type": "stream",
     "text": [
      "\rEpisode 259000/500000."
     ]
    },
    {
     "name": "stdout",
     "output_type": "stream",
     "text": [
      "\rEpisode 260000/500000."
     ]
    },
    {
     "name": "stdout",
     "output_type": "stream",
     "text": [
      "\rEpisode 261000/500000."
     ]
    },
    {
     "name": "stdout",
     "output_type": "stream",
     "text": [
      "\rEpisode 262000/500000."
     ]
    },
    {
     "name": "stdout",
     "output_type": "stream",
     "text": [
      "\rEpisode 263000/500000."
     ]
    },
    {
     "name": "stdout",
     "output_type": "stream",
     "text": [
      "\rEpisode 264000/500000."
     ]
    },
    {
     "name": "stdout",
     "output_type": "stream",
     "text": [
      "\rEpisode 265000/500000."
     ]
    },
    {
     "name": "stdout",
     "output_type": "stream",
     "text": [
      "\rEpisode 266000/500000."
     ]
    },
    {
     "name": "stdout",
     "output_type": "stream",
     "text": [
      "\rEpisode 267000/500000."
     ]
    },
    {
     "name": "stdout",
     "output_type": "stream",
     "text": [
      "\rEpisode 268000/500000."
     ]
    },
    {
     "name": "stdout",
     "output_type": "stream",
     "text": [
      "\rEpisode 269000/500000."
     ]
    },
    {
     "name": "stdout",
     "output_type": "stream",
     "text": [
      "\rEpisode 270000/500000."
     ]
    },
    {
     "name": "stdout",
     "output_type": "stream",
     "text": [
      "\rEpisode 271000/500000."
     ]
    },
    {
     "name": "stdout",
     "output_type": "stream",
     "text": [
      "\rEpisode 272000/500000."
     ]
    },
    {
     "name": "stdout",
     "output_type": "stream",
     "text": [
      "\rEpisode 273000/500000."
     ]
    },
    {
     "name": "stdout",
     "output_type": "stream",
     "text": [
      "\rEpisode 274000/500000."
     ]
    },
    {
     "name": "stdout",
     "output_type": "stream",
     "text": [
      "\rEpisode 275000/500000."
     ]
    },
    {
     "name": "stdout",
     "output_type": "stream",
     "text": [
      "\rEpisode 276000/500000."
     ]
    },
    {
     "name": "stdout",
     "output_type": "stream",
     "text": [
      "\rEpisode 277000/500000."
     ]
    },
    {
     "name": "stdout",
     "output_type": "stream",
     "text": [
      "\rEpisode 278000/500000."
     ]
    },
    {
     "name": "stdout",
     "output_type": "stream",
     "text": [
      "\rEpisode 279000/500000."
     ]
    },
    {
     "name": "stdout",
     "output_type": "stream",
     "text": [
      "\rEpisode 280000/500000."
     ]
    },
    {
     "name": "stdout",
     "output_type": "stream",
     "text": [
      "\rEpisode 281000/500000."
     ]
    },
    {
     "name": "stdout",
     "output_type": "stream",
     "text": [
      "\rEpisode 282000/500000."
     ]
    },
    {
     "name": "stdout",
     "output_type": "stream",
     "text": [
      "\rEpisode 283000/500000."
     ]
    },
    {
     "name": "stdout",
     "output_type": "stream",
     "text": [
      "\rEpisode 284000/500000."
     ]
    },
    {
     "name": "stdout",
     "output_type": "stream",
     "text": [
      "\rEpisode 285000/500000."
     ]
    },
    {
     "name": "stdout",
     "output_type": "stream",
     "text": [
      "\rEpisode 286000/500000."
     ]
    },
    {
     "name": "stdout",
     "output_type": "stream",
     "text": [
      "\rEpisode 287000/500000."
     ]
    },
    {
     "name": "stdout",
     "output_type": "stream",
     "text": [
      "\rEpisode 288000/500000."
     ]
    },
    {
     "name": "stdout",
     "output_type": "stream",
     "text": [
      "\rEpisode 289000/500000."
     ]
    },
    {
     "name": "stdout",
     "output_type": "stream",
     "text": [
      "\rEpisode 290000/500000."
     ]
    },
    {
     "name": "stdout",
     "output_type": "stream",
     "text": [
      "\rEpisode 291000/500000."
     ]
    },
    {
     "name": "stdout",
     "output_type": "stream",
     "text": [
      "\rEpisode 292000/500000."
     ]
    },
    {
     "name": "stdout",
     "output_type": "stream",
     "text": [
      "\rEpisode 293000/500000."
     ]
    },
    {
     "name": "stdout",
     "output_type": "stream",
     "text": [
      "\rEpisode 294000/500000."
     ]
    },
    {
     "name": "stdout",
     "output_type": "stream",
     "text": [
      "\rEpisode 295000/500000."
     ]
    },
    {
     "name": "stdout",
     "output_type": "stream",
     "text": [
      "\rEpisode 296000/500000."
     ]
    },
    {
     "name": "stdout",
     "output_type": "stream",
     "text": [
      "\rEpisode 297000/500000."
     ]
    },
    {
     "name": "stdout",
     "output_type": "stream",
     "text": [
      "\rEpisode 298000/500000."
     ]
    },
    {
     "name": "stdout",
     "output_type": "stream",
     "text": [
      "\rEpisode 299000/500000."
     ]
    },
    {
     "name": "stdout",
     "output_type": "stream",
     "text": [
      "\rEpisode 300000/500000."
     ]
    },
    {
     "name": "stdout",
     "output_type": "stream",
     "text": [
      "\rEpisode 301000/500000."
     ]
    },
    {
     "name": "stdout",
     "output_type": "stream",
     "text": [
      "\rEpisode 302000/500000."
     ]
    },
    {
     "name": "stdout",
     "output_type": "stream",
     "text": [
      "\rEpisode 303000/500000."
     ]
    },
    {
     "name": "stdout",
     "output_type": "stream",
     "text": [
      "\rEpisode 304000/500000."
     ]
    },
    {
     "name": "stdout",
     "output_type": "stream",
     "text": [
      "\rEpisode 305000/500000."
     ]
    },
    {
     "name": "stdout",
     "output_type": "stream",
     "text": [
      "\rEpisode 306000/500000."
     ]
    },
    {
     "name": "stdout",
     "output_type": "stream",
     "text": [
      "\rEpisode 307000/500000."
     ]
    },
    {
     "name": "stdout",
     "output_type": "stream",
     "text": [
      "\rEpisode 308000/500000."
     ]
    },
    {
     "name": "stdout",
     "output_type": "stream",
     "text": [
      "\rEpisode 309000/500000."
     ]
    },
    {
     "name": "stdout",
     "output_type": "stream",
     "text": [
      "\rEpisode 310000/500000."
     ]
    },
    {
     "name": "stdout",
     "output_type": "stream",
     "text": [
      "\rEpisode 311000/500000."
     ]
    },
    {
     "name": "stdout",
     "output_type": "stream",
     "text": [
      "\rEpisode 312000/500000."
     ]
    },
    {
     "name": "stdout",
     "output_type": "stream",
     "text": [
      "\rEpisode 313000/500000."
     ]
    },
    {
     "name": "stdout",
     "output_type": "stream",
     "text": [
      "\rEpisode 314000/500000."
     ]
    },
    {
     "name": "stdout",
     "output_type": "stream",
     "text": [
      "\rEpisode 315000/500000."
     ]
    },
    {
     "name": "stdout",
     "output_type": "stream",
     "text": [
      "\rEpisode 316000/500000."
     ]
    },
    {
     "name": "stdout",
     "output_type": "stream",
     "text": [
      "\rEpisode 317000/500000."
     ]
    },
    {
     "name": "stdout",
     "output_type": "stream",
     "text": [
      "\rEpisode 318000/500000."
     ]
    },
    {
     "name": "stdout",
     "output_type": "stream",
     "text": [
      "\rEpisode 319000/500000."
     ]
    },
    {
     "name": "stdout",
     "output_type": "stream",
     "text": [
      "\rEpisode 320000/500000."
     ]
    },
    {
     "name": "stdout",
     "output_type": "stream",
     "text": [
      "\rEpisode 321000/500000."
     ]
    },
    {
     "name": "stdout",
     "output_type": "stream",
     "text": [
      "\rEpisode 322000/500000."
     ]
    },
    {
     "name": "stdout",
     "output_type": "stream",
     "text": [
      "\rEpisode 323000/500000."
     ]
    },
    {
     "name": "stdout",
     "output_type": "stream",
     "text": [
      "\rEpisode 324000/500000."
     ]
    },
    {
     "name": "stdout",
     "output_type": "stream",
     "text": [
      "\rEpisode 325000/500000."
     ]
    },
    {
     "name": "stdout",
     "output_type": "stream",
     "text": [
      "\rEpisode 326000/500000."
     ]
    },
    {
     "name": "stdout",
     "output_type": "stream",
     "text": [
      "\rEpisode 327000/500000."
     ]
    },
    {
     "name": "stdout",
     "output_type": "stream",
     "text": [
      "\rEpisode 328000/500000."
     ]
    },
    {
     "name": "stdout",
     "output_type": "stream",
     "text": [
      "\rEpisode 329000/500000."
     ]
    },
    {
     "name": "stdout",
     "output_type": "stream",
     "text": [
      "\rEpisode 330000/500000."
     ]
    },
    {
     "name": "stdout",
     "output_type": "stream",
     "text": [
      "\rEpisode 331000/500000."
     ]
    },
    {
     "name": "stdout",
     "output_type": "stream",
     "text": [
      "\rEpisode 332000/500000."
     ]
    },
    {
     "name": "stdout",
     "output_type": "stream",
     "text": [
      "\rEpisode 333000/500000."
     ]
    },
    {
     "name": "stdout",
     "output_type": "stream",
     "text": [
      "\rEpisode 334000/500000."
     ]
    },
    {
     "name": "stdout",
     "output_type": "stream",
     "text": [
      "\rEpisode 335000/500000."
     ]
    },
    {
     "name": "stdout",
     "output_type": "stream",
     "text": [
      "\rEpisode 336000/500000."
     ]
    },
    {
     "name": "stdout",
     "output_type": "stream",
     "text": [
      "\rEpisode 337000/500000."
     ]
    },
    {
     "name": "stdout",
     "output_type": "stream",
     "text": [
      "\rEpisode 338000/500000."
     ]
    },
    {
     "name": "stdout",
     "output_type": "stream",
     "text": [
      "\rEpisode 339000/500000."
     ]
    },
    {
     "name": "stdout",
     "output_type": "stream",
     "text": [
      "\rEpisode 340000/500000."
     ]
    },
    {
     "name": "stdout",
     "output_type": "stream",
     "text": [
      "\rEpisode 341000/500000."
     ]
    },
    {
     "name": "stdout",
     "output_type": "stream",
     "text": [
      "\rEpisode 342000/500000."
     ]
    },
    {
     "name": "stdout",
     "output_type": "stream",
     "text": [
      "\rEpisode 343000/500000."
     ]
    },
    {
     "name": "stdout",
     "output_type": "stream",
     "text": [
      "\rEpisode 344000/500000."
     ]
    },
    {
     "name": "stdout",
     "output_type": "stream",
     "text": [
      "\rEpisode 345000/500000."
     ]
    },
    {
     "name": "stdout",
     "output_type": "stream",
     "text": [
      "\rEpisode 346000/500000."
     ]
    },
    {
     "name": "stdout",
     "output_type": "stream",
     "text": [
      "\rEpisode 347000/500000."
     ]
    },
    {
     "name": "stdout",
     "output_type": "stream",
     "text": [
      "\rEpisode 348000/500000."
     ]
    },
    {
     "name": "stdout",
     "output_type": "stream",
     "text": [
      "\rEpisode 349000/500000."
     ]
    },
    {
     "name": "stdout",
     "output_type": "stream",
     "text": [
      "\rEpisode 350000/500000."
     ]
    },
    {
     "name": "stdout",
     "output_type": "stream",
     "text": [
      "\rEpisode 351000/500000."
     ]
    },
    {
     "name": "stdout",
     "output_type": "stream",
     "text": [
      "\rEpisode 352000/500000."
     ]
    },
    {
     "name": "stdout",
     "output_type": "stream",
     "text": [
      "\rEpisode 353000/500000."
     ]
    },
    {
     "name": "stdout",
     "output_type": "stream",
     "text": [
      "\rEpisode 354000/500000."
     ]
    },
    {
     "name": "stdout",
     "output_type": "stream",
     "text": [
      "\rEpisode 355000/500000."
     ]
    },
    {
     "name": "stdout",
     "output_type": "stream",
     "text": [
      "\rEpisode 356000/500000."
     ]
    },
    {
     "name": "stdout",
     "output_type": "stream",
     "text": [
      "\rEpisode 357000/500000."
     ]
    },
    {
     "name": "stdout",
     "output_type": "stream",
     "text": [
      "\rEpisode 358000/500000."
     ]
    },
    {
     "name": "stdout",
     "output_type": "stream",
     "text": [
      "\rEpisode 359000/500000."
     ]
    },
    {
     "name": "stdout",
     "output_type": "stream",
     "text": [
      "\rEpisode 360000/500000."
     ]
    },
    {
     "name": "stdout",
     "output_type": "stream",
     "text": [
      "\rEpisode 361000/500000."
     ]
    },
    {
     "name": "stdout",
     "output_type": "stream",
     "text": [
      "\rEpisode 362000/500000."
     ]
    },
    {
     "name": "stdout",
     "output_type": "stream",
     "text": [
      "\rEpisode 363000/500000."
     ]
    },
    {
     "name": "stdout",
     "output_type": "stream",
     "text": [
      "\rEpisode 364000/500000."
     ]
    },
    {
     "name": "stdout",
     "output_type": "stream",
     "text": [
      "\rEpisode 365000/500000."
     ]
    },
    {
     "name": "stdout",
     "output_type": "stream",
     "text": [
      "\rEpisode 366000/500000."
     ]
    },
    {
     "name": "stdout",
     "output_type": "stream",
     "text": [
      "\rEpisode 367000/500000."
     ]
    },
    {
     "name": "stdout",
     "output_type": "stream",
     "text": [
      "\rEpisode 368000/500000."
     ]
    },
    {
     "name": "stdout",
     "output_type": "stream",
     "text": [
      "\rEpisode 369000/500000."
     ]
    },
    {
     "name": "stdout",
     "output_type": "stream",
     "text": [
      "\rEpisode 370000/500000."
     ]
    },
    {
     "name": "stdout",
     "output_type": "stream",
     "text": [
      "\rEpisode 371000/500000."
     ]
    },
    {
     "name": "stdout",
     "output_type": "stream",
     "text": [
      "\rEpisode 372000/500000."
     ]
    },
    {
     "name": "stdout",
     "output_type": "stream",
     "text": [
      "\rEpisode 373000/500000."
     ]
    },
    {
     "name": "stdout",
     "output_type": "stream",
     "text": [
      "\rEpisode 374000/500000."
     ]
    },
    {
     "name": "stdout",
     "output_type": "stream",
     "text": [
      "\rEpisode 375000/500000."
     ]
    },
    {
     "name": "stdout",
     "output_type": "stream",
     "text": [
      "\rEpisode 376000/500000."
     ]
    },
    {
     "name": "stdout",
     "output_type": "stream",
     "text": [
      "\rEpisode 377000/500000."
     ]
    },
    {
     "name": "stdout",
     "output_type": "stream",
     "text": [
      "\rEpisode 378000/500000."
     ]
    },
    {
     "name": "stdout",
     "output_type": "stream",
     "text": [
      "\rEpisode 379000/500000."
     ]
    },
    {
     "name": "stdout",
     "output_type": "stream",
     "text": [
      "\rEpisode 380000/500000."
     ]
    },
    {
     "name": "stdout",
     "output_type": "stream",
     "text": [
      "\rEpisode 381000/500000."
     ]
    },
    {
     "name": "stdout",
     "output_type": "stream",
     "text": [
      "\rEpisode 382000/500000."
     ]
    },
    {
     "name": "stdout",
     "output_type": "stream",
     "text": [
      "\rEpisode 383000/500000."
     ]
    },
    {
     "name": "stdout",
     "output_type": "stream",
     "text": [
      "\rEpisode 384000/500000."
     ]
    },
    {
     "name": "stdout",
     "output_type": "stream",
     "text": [
      "\rEpisode 385000/500000."
     ]
    },
    {
     "name": "stdout",
     "output_type": "stream",
     "text": [
      "\rEpisode 386000/500000."
     ]
    },
    {
     "name": "stdout",
     "output_type": "stream",
     "text": [
      "\rEpisode 387000/500000."
     ]
    },
    {
     "name": "stdout",
     "output_type": "stream",
     "text": [
      "\rEpisode 388000/500000."
     ]
    },
    {
     "name": "stdout",
     "output_type": "stream",
     "text": [
      "\rEpisode 389000/500000."
     ]
    },
    {
     "name": "stdout",
     "output_type": "stream",
     "text": [
      "\rEpisode 390000/500000."
     ]
    },
    {
     "name": "stdout",
     "output_type": "stream",
     "text": [
      "\rEpisode 391000/500000."
     ]
    },
    {
     "name": "stdout",
     "output_type": "stream",
     "text": [
      "\rEpisode 392000/500000."
     ]
    },
    {
     "name": "stdout",
     "output_type": "stream",
     "text": [
      "\rEpisode 393000/500000."
     ]
    },
    {
     "name": "stdout",
     "output_type": "stream",
     "text": [
      "\rEpisode 394000/500000."
     ]
    },
    {
     "name": "stdout",
     "output_type": "stream",
     "text": [
      "\rEpisode 395000/500000."
     ]
    },
    {
     "name": "stdout",
     "output_type": "stream",
     "text": [
      "\rEpisode 396000/500000."
     ]
    },
    {
     "name": "stdout",
     "output_type": "stream",
     "text": [
      "\rEpisode 397000/500000."
     ]
    },
    {
     "name": "stdout",
     "output_type": "stream",
     "text": [
      "\rEpisode 398000/500000."
     ]
    },
    {
     "name": "stdout",
     "output_type": "stream",
     "text": [
      "\rEpisode 399000/500000."
     ]
    },
    {
     "name": "stdout",
     "output_type": "stream",
     "text": [
      "\rEpisode 400000/500000."
     ]
    },
    {
     "name": "stdout",
     "output_type": "stream",
     "text": [
      "\rEpisode 401000/500000."
     ]
    },
    {
     "name": "stdout",
     "output_type": "stream",
     "text": [
      "\rEpisode 402000/500000."
     ]
    },
    {
     "name": "stdout",
     "output_type": "stream",
     "text": [
      "\rEpisode 403000/500000."
     ]
    },
    {
     "name": "stdout",
     "output_type": "stream",
     "text": [
      "\rEpisode 404000/500000."
     ]
    },
    {
     "name": "stdout",
     "output_type": "stream",
     "text": [
      "\rEpisode 405000/500000."
     ]
    },
    {
     "name": "stdout",
     "output_type": "stream",
     "text": [
      "\rEpisode 406000/500000."
     ]
    },
    {
     "name": "stdout",
     "output_type": "stream",
     "text": [
      "\rEpisode 407000/500000."
     ]
    },
    {
     "name": "stdout",
     "output_type": "stream",
     "text": [
      "\rEpisode 408000/500000."
     ]
    },
    {
     "name": "stdout",
     "output_type": "stream",
     "text": [
      "\rEpisode 409000/500000."
     ]
    },
    {
     "name": "stdout",
     "output_type": "stream",
     "text": [
      "\rEpisode 410000/500000."
     ]
    },
    {
     "name": "stdout",
     "output_type": "stream",
     "text": [
      "\rEpisode 411000/500000."
     ]
    },
    {
     "name": "stdout",
     "output_type": "stream",
     "text": [
      "\rEpisode 412000/500000."
     ]
    },
    {
     "name": "stdout",
     "output_type": "stream",
     "text": [
      "\rEpisode 413000/500000."
     ]
    },
    {
     "name": "stdout",
     "output_type": "stream",
     "text": [
      "\rEpisode 414000/500000."
     ]
    },
    {
     "name": "stdout",
     "output_type": "stream",
     "text": [
      "\rEpisode 415000/500000."
     ]
    },
    {
     "name": "stdout",
     "output_type": "stream",
     "text": [
      "\rEpisode 416000/500000."
     ]
    },
    {
     "name": "stdout",
     "output_type": "stream",
     "text": [
      "\rEpisode 417000/500000."
     ]
    },
    {
     "name": "stdout",
     "output_type": "stream",
     "text": [
      "\rEpisode 418000/500000."
     ]
    },
    {
     "name": "stdout",
     "output_type": "stream",
     "text": [
      "\rEpisode 419000/500000."
     ]
    },
    {
     "name": "stdout",
     "output_type": "stream",
     "text": [
      "\rEpisode 420000/500000."
     ]
    },
    {
     "name": "stdout",
     "output_type": "stream",
     "text": [
      "\rEpisode 421000/500000."
     ]
    },
    {
     "name": "stdout",
     "output_type": "stream",
     "text": [
      "\rEpisode 422000/500000."
     ]
    },
    {
     "name": "stdout",
     "output_type": "stream",
     "text": [
      "\rEpisode 423000/500000."
     ]
    },
    {
     "name": "stdout",
     "output_type": "stream",
     "text": [
      "\rEpisode 424000/500000."
     ]
    },
    {
     "name": "stdout",
     "output_type": "stream",
     "text": [
      "\rEpisode 425000/500000."
     ]
    },
    {
     "name": "stdout",
     "output_type": "stream",
     "text": [
      "\rEpisode 426000/500000."
     ]
    },
    {
     "name": "stdout",
     "output_type": "stream",
     "text": [
      "\rEpisode 427000/500000."
     ]
    },
    {
     "name": "stdout",
     "output_type": "stream",
     "text": [
      "\rEpisode 428000/500000."
     ]
    },
    {
     "name": "stdout",
     "output_type": "stream",
     "text": [
      "\rEpisode 429000/500000."
     ]
    },
    {
     "name": "stdout",
     "output_type": "stream",
     "text": [
      "\rEpisode 430000/500000."
     ]
    },
    {
     "name": "stdout",
     "output_type": "stream",
     "text": [
      "\rEpisode 431000/500000."
     ]
    },
    {
     "name": "stdout",
     "output_type": "stream",
     "text": [
      "\rEpisode 432000/500000."
     ]
    },
    {
     "name": "stdout",
     "output_type": "stream",
     "text": [
      "\rEpisode 433000/500000."
     ]
    },
    {
     "name": "stdout",
     "output_type": "stream",
     "text": [
      "\rEpisode 434000/500000."
     ]
    },
    {
     "name": "stdout",
     "output_type": "stream",
     "text": [
      "\rEpisode 435000/500000."
     ]
    },
    {
     "name": "stdout",
     "output_type": "stream",
     "text": [
      "\rEpisode 436000/500000."
     ]
    },
    {
     "name": "stdout",
     "output_type": "stream",
     "text": [
      "\rEpisode 437000/500000."
     ]
    },
    {
     "name": "stdout",
     "output_type": "stream",
     "text": [
      "\rEpisode 438000/500000."
     ]
    },
    {
     "name": "stdout",
     "output_type": "stream",
     "text": [
      "\rEpisode 439000/500000."
     ]
    },
    {
     "name": "stdout",
     "output_type": "stream",
     "text": [
      "\rEpisode 440000/500000."
     ]
    },
    {
     "name": "stdout",
     "output_type": "stream",
     "text": [
      "\rEpisode 441000/500000."
     ]
    },
    {
     "name": "stdout",
     "output_type": "stream",
     "text": [
      "\rEpisode 442000/500000."
     ]
    },
    {
     "name": "stdout",
     "output_type": "stream",
     "text": [
      "\rEpisode 443000/500000."
     ]
    },
    {
     "name": "stdout",
     "output_type": "stream",
     "text": [
      "\rEpisode 444000/500000."
     ]
    },
    {
     "name": "stdout",
     "output_type": "stream",
     "text": [
      "\rEpisode 445000/500000."
     ]
    },
    {
     "name": "stdout",
     "output_type": "stream",
     "text": [
      "\rEpisode 446000/500000."
     ]
    },
    {
     "name": "stdout",
     "output_type": "stream",
     "text": [
      "\rEpisode 447000/500000."
     ]
    },
    {
     "name": "stdout",
     "output_type": "stream",
     "text": [
      "\rEpisode 448000/500000."
     ]
    },
    {
     "name": "stdout",
     "output_type": "stream",
     "text": [
      "\rEpisode 449000/500000."
     ]
    },
    {
     "name": "stdout",
     "output_type": "stream",
     "text": [
      "\rEpisode 450000/500000."
     ]
    },
    {
     "name": "stdout",
     "output_type": "stream",
     "text": [
      "\rEpisode 451000/500000."
     ]
    },
    {
     "name": "stdout",
     "output_type": "stream",
     "text": [
      "\rEpisode 452000/500000."
     ]
    },
    {
     "name": "stdout",
     "output_type": "stream",
     "text": [
      "\rEpisode 453000/500000."
     ]
    },
    {
     "name": "stdout",
     "output_type": "stream",
     "text": [
      "\rEpisode 454000/500000."
     ]
    },
    {
     "name": "stdout",
     "output_type": "stream",
     "text": [
      "\rEpisode 455000/500000."
     ]
    },
    {
     "name": "stdout",
     "output_type": "stream",
     "text": [
      "\rEpisode 456000/500000."
     ]
    },
    {
     "name": "stdout",
     "output_type": "stream",
     "text": [
      "\rEpisode 457000/500000."
     ]
    },
    {
     "name": "stdout",
     "output_type": "stream",
     "text": [
      "\rEpisode 458000/500000."
     ]
    },
    {
     "name": "stdout",
     "output_type": "stream",
     "text": [
      "\rEpisode 459000/500000."
     ]
    },
    {
     "name": "stdout",
     "output_type": "stream",
     "text": [
      "\rEpisode 460000/500000."
     ]
    },
    {
     "name": "stdout",
     "output_type": "stream",
     "text": [
      "\rEpisode 461000/500000."
     ]
    },
    {
     "name": "stdout",
     "output_type": "stream",
     "text": [
      "\rEpisode 462000/500000."
     ]
    },
    {
     "name": "stdout",
     "output_type": "stream",
     "text": [
      "\rEpisode 463000/500000."
     ]
    },
    {
     "name": "stdout",
     "output_type": "stream",
     "text": [
      "\rEpisode 464000/500000."
     ]
    },
    {
     "name": "stdout",
     "output_type": "stream",
     "text": [
      "\rEpisode 465000/500000."
     ]
    },
    {
     "name": "stdout",
     "output_type": "stream",
     "text": [
      "\rEpisode 466000/500000."
     ]
    },
    {
     "name": "stdout",
     "output_type": "stream",
     "text": [
      "\rEpisode 467000/500000."
     ]
    },
    {
     "name": "stdout",
     "output_type": "stream",
     "text": [
      "\rEpisode 468000/500000."
     ]
    },
    {
     "name": "stdout",
     "output_type": "stream",
     "text": [
      "\rEpisode 469000/500000."
     ]
    },
    {
     "name": "stdout",
     "output_type": "stream",
     "text": [
      "\rEpisode 470000/500000."
     ]
    },
    {
     "name": "stdout",
     "output_type": "stream",
     "text": [
      "\rEpisode 471000/500000."
     ]
    },
    {
     "name": "stdout",
     "output_type": "stream",
     "text": [
      "\rEpisode 472000/500000."
     ]
    },
    {
     "name": "stdout",
     "output_type": "stream",
     "text": [
      "\rEpisode 473000/500000."
     ]
    },
    {
     "name": "stdout",
     "output_type": "stream",
     "text": [
      "\rEpisode 474000/500000."
     ]
    },
    {
     "name": "stdout",
     "output_type": "stream",
     "text": [
      "\rEpisode 475000/500000."
     ]
    },
    {
     "name": "stdout",
     "output_type": "stream",
     "text": [
      "\rEpisode 476000/500000."
     ]
    },
    {
     "name": "stdout",
     "output_type": "stream",
     "text": [
      "\rEpisode 477000/500000."
     ]
    },
    {
     "name": "stdout",
     "output_type": "stream",
     "text": [
      "\rEpisode 478000/500000."
     ]
    },
    {
     "name": "stdout",
     "output_type": "stream",
     "text": [
      "\rEpisode 479000/500000."
     ]
    },
    {
     "name": "stdout",
     "output_type": "stream",
     "text": [
      "\rEpisode 480000/500000."
     ]
    },
    {
     "name": "stdout",
     "output_type": "stream",
     "text": [
      "\rEpisode 481000/500000."
     ]
    },
    {
     "name": "stdout",
     "output_type": "stream",
     "text": [
      "\rEpisode 482000/500000."
     ]
    },
    {
     "name": "stdout",
     "output_type": "stream",
     "text": [
      "\rEpisode 483000/500000."
     ]
    },
    {
     "name": "stdout",
     "output_type": "stream",
     "text": [
      "\rEpisode 484000/500000."
     ]
    },
    {
     "name": "stdout",
     "output_type": "stream",
     "text": [
      "\rEpisode 485000/500000."
     ]
    },
    {
     "name": "stdout",
     "output_type": "stream",
     "text": [
      "\rEpisode 486000/500000."
     ]
    },
    {
     "name": "stdout",
     "output_type": "stream",
     "text": [
      "\rEpisode 487000/500000."
     ]
    },
    {
     "name": "stdout",
     "output_type": "stream",
     "text": [
      "\rEpisode 488000/500000."
     ]
    },
    {
     "name": "stdout",
     "output_type": "stream",
     "text": [
      "\rEpisode 489000/500000."
     ]
    },
    {
     "name": "stdout",
     "output_type": "stream",
     "text": [
      "\rEpisode 490000/500000."
     ]
    },
    {
     "name": "stdout",
     "output_type": "stream",
     "text": [
      "\rEpisode 491000/500000."
     ]
    },
    {
     "name": "stdout",
     "output_type": "stream",
     "text": [
      "\rEpisode 492000/500000."
     ]
    },
    {
     "name": "stdout",
     "output_type": "stream",
     "text": [
      "\rEpisode 493000/500000."
     ]
    },
    {
     "name": "stdout",
     "output_type": "stream",
     "text": [
      "\rEpisode 494000/500000."
     ]
    },
    {
     "name": "stdout",
     "output_type": "stream",
     "text": [
      "\rEpisode 495000/500000."
     ]
    },
    {
     "name": "stdout",
     "output_type": "stream",
     "text": [
      "\rEpisode 496000/500000."
     ]
    },
    {
     "name": "stdout",
     "output_type": "stream",
     "text": [
      "\rEpisode 497000/500000."
     ]
    },
    {
     "name": "stdout",
     "output_type": "stream",
     "text": [
      "\rEpisode 498000/500000."
     ]
    },
    {
     "name": "stdout",
     "output_type": "stream",
     "text": [
      "\rEpisode 499000/500000."
     ]
    }
   ],
   "source": [
    "Q, policy = mc_control_epsilon_greedy(env, num_episodes=500000, epsilon=0.1)"
   ]
  },
  {
   "cell_type": "code",
   "execution_count": 33,
   "metadata": {
    "collapsed": true
   },
   "outputs": [
    {
     "data": {
      "image/png": "[encoded data removed]",
      "text/plain": [
       "<Figure size 1440x720 with 2 Axes>"
      ]
     },
     "metadata": {},
     "output_type": "display_data"
    },
    {
     "data": {
      "image/png": "[encoded data removed]",
      "text/plain": [
       "<Figure size 1440x720 with 2 Axes>"
      ]
     },
     "metadata": {},
     "output_type": "display_data"
    }
   ],
   "source": [
    "# For plotting: Create value function from action-value function\n",
    "# by picking the best action at each state\n",
    "V = defaultdict(float)\n",
    "for state, actions in Q.items():\n",
    "    action_value = np.max(actions)\n",
    "    V[state] = action_value\n",
    "plotting.plot_value_function(V, title=\"Optimal Value Function\")"
   ]
  },
  {
   "cell_type": "code",
   "execution_count": null,
   "metadata": {
    "collapsed": true
   },
   "outputs": [],
   "source": []
  }
 ],
 "metadata": {
  "kernelspec": {
   "display_name": "Python 3",
   "language": "python",
   "name": "python3"
  },
  "language_info": {
   "codemirror_mode": {
    "name": "ipython",
    "version": 3
   },
   "file_extension": ".py",
   "mimetype": "text/x-python",
   "name": "python",
   "nbconvert_exporter": "python",
   "pygments_lexer": "ipython3",
   "version": "3.5.2"
  }
 },
 "nbformat": 4,
 "nbformat_minor": 1
}
